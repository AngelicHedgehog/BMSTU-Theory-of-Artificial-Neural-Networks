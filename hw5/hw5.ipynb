{
 "cells": [
  {
   "cell_type": "code",
   "execution_count": 74,
   "metadata": {},
   "outputs": [],
   "source": [
    "import torch\n",
    "import torch.nn as nn\n",
    "import torch.optim as optim\n",
    "import torch.nn.functional as F\n",
    "from torch.utils.data import DataLoader, TensorDataset\n",
    "\n",
    "import numpy as np\n",
    "import matplotlib.pyplot as plt"
   ]
  },
  {
   "cell_type": "code",
   "execution_count": 47,
   "metadata": {},
   "outputs": [],
   "source": [
    "\n",
    "class CNN_default(nn.Module):\n",
    "    def __init__(self, optimizer_type, learning_rate):\n",
    "        super(CNN_default, self).__init__()\n",
    "        self.optimizer_type = optimizer_type\n",
    "        self.learning_rate = learning_rate\n",
    "        self.loss_function = nn.CrossEntropyLoss()\n",
    "        \n",
    "    def forward(self, x):\n",
    "        return x\n",
    "    \n",
    "    def fit(self, train_loader, epochs):\n",
    "        optimizer = self.optimizer_type(self.parameters(), lr=self.learning_rate)\n",
    "        self.train()\n",
    "        \n",
    "        for images, labels in train_loader:\n",
    "            # Прямой проход\n",
    "            outputs = self(images)\n",
    "            loss = self.loss_function(outputs, labels)\n",
    "            \n",
    "            # Обратный проход и оптимизация\n",
    "            loss.backward()\n",
    "            optimizer.step()\n",
    "        \n",
    "    def predict(self, test_loader):\n",
    "        correct = 0\n",
    "        total = 0\n",
    "        \n",
    "        self.eval()\n",
    "        \n",
    "        with torch.no_grad():\n",
    "            for images, labels in test_loader:\n",
    "                outputs = self(images)\n",
    "                _, predicted = torch.max(outputs, 1)\n",
    "                correct += (predicted == labels).sum().item()\n",
    "                total += labels.size(0)\n",
    "        \n",
    "        return correct / total\n",
    "\n",
    "    def evaluate(self, test_loader):\n",
    "        total_loss = 0\n",
    "        \n",
    "        self.eval()\n",
    "        \n",
    "        with torch.no_grad():\n",
    "            for images, labels in test_loader:\n",
    "                outputs = self(images)\n",
    "                loss = self.loss_function(outputs, labels)\n",
    "                total_loss += loss.item()\n",
    "        \n",
    "        return total_loss / len(test_loader)"
   ]
  },
  {
   "cell_type": "code",
   "execution_count": 48,
   "metadata": {},
   "outputs": [],
   "source": [
    "\n",
    "class LeNet(CNN_default):\n",
    "    def __init__(self, optimizer, learning_rate):\n",
    "        super(LeNet, self).__init__(optimizer, learning_rate)\n",
    "        \n",
    "        self.conv1 = nn.Conv2d(3, 6, kernel_size=5, stride=1, padding=2)\n",
    "        self.pool1 = nn.AvgPool2d(kernel_size=2, stride=2)\n",
    "        self.conv2 = nn.Conv2d(6, 16, kernel_size=5, stride=1)\n",
    "        self.pool2 = nn.AvgPool2d(kernel_size=2, stride=2)\n",
    "        self.fc1 = nn.Linear(16 * 6 * 6, 120)\n",
    "        self.fc2 = nn.Linear(120, 84)\n",
    "        self.fc3 = nn.Linear(84, 10)\n",
    "        \n",
    "    def forward(self, x):\n",
    "        x = F.relu(self.conv1(x))\n",
    "        x = self.pool1(x)\n",
    "        x = F.relu(self.conv2(x))\n",
    "        x = self.pool2(x)\n",
    "        x = x.view(-1, 16 * 6 * 6)\n",
    "        x = F.relu(self.fc1(x))\n",
    "        x = F.relu(self.fc2(x))\n",
    "        x = self.fc3(x)\n",
    "        return x\n",
    "    "
   ]
  },
  {
   "cell_type": "code",
   "execution_count": 77,
   "metadata": {},
   "outputs": [
    {
     "name": "stdout",
     "output_type": "stream",
     "text": [
      "Размер обучающего датасета: 60000\n",
      "Размер тестового датасета: 10000\n"
     ]
    }
   ],
   "source": [
    "from torch.utils.data import DataLoader, Subset\n",
    "from torchvision import datasets, transforms\n",
    "\n",
    "transform = transforms.Compose([\n",
    "    transforms.Resize((32, 32)),\n",
    "    transforms.Grayscale(num_output_channels=3),\n",
    "    transforms.ToTensor(),\n",
    "    transforms.Normalize((0.5, 0.5, 0.5), (0.5, 0.5, 0.5))\n",
    "])\n",
    "\n",
    "MNIST_train_dataset = datasets.MNIST(root='./data', train=True, download=True, transform=transform)\n",
    "MNIST_test_dataset = datasets.MNIST(root='./data', train=False, download=True, transform=transform)\n",
    "\n",
    "MNIST_train_loader = DataLoader(MNIST_train_dataset, shuffle=True)\n",
    "MNIST_test_loader = DataLoader(MNIST_test_dataset, shuffle=True)\n",
    "\n",
    "print(f\"Размер обучающего датасета: {len(MNIST_train_dataset)}\")\n",
    "print(f\"Размер тестового датасета: {len(MNIST_test_dataset)}\")"
   ]
  },
  {
   "cell_type": "code",
   "execution_count": 67,
   "metadata": {},
   "outputs": [
    {
     "name": "stdout",
     "output_type": "stream",
     "text": [
      "0.723 0.9020928097941113\n",
      "0.855 0.8520079698949511\n",
      "0.463 1.870106275057617\n",
      "0.147 2.2289677484742283\n",
      "0.087 2.3584985506534575\n",
      "0.085 2.430478364944458\n",
      "0.087 2.3360368545055388\n",
      "0.126 2.4081402806043624\n",
      "0.11 2.3334052774906158\n",
      "0.126 2.41725488615036\n"
     ]
    }
   ],
   "source": [
    "LeNet_SGD_accuracies = []\n",
    "LeNet_SGD_losses = []\n",
    "\n",
    "LeNet_SGD_model = LeNet(optim.SGD, learning_rate=1e-6)\n",
    "for _ in range(10):\n",
    "    LeNet_SGD_model.fit(MNIST_train_dataset, epochs=1)\n",
    "    LeNet_SGD_accuracies.append(LeNet_SGD_model.predict(MNIST_test_dataset))\n",
    "    LeNet_SGD_losses.append(LeNet_SGD_model.evaluate(MNIST_test_dataset))\n",
    "    print(LeNet_SGD_accuracies[-1], LeNet_SGD_losses[-1])"
   ]
  },
  {
   "cell_type": "code",
   "execution_count": 69,
   "metadata": {},
   "outputs": [
    {
     "name": "stdout",
     "output_type": "stream",
     "text": [
      "0.323 2.273204564332962\n",
      "0.347 2.2638577575683594\n",
      "0.363 2.257652475118637\n",
      "0.37 2.251875804901123\n",
      "0.385 2.2458798847198485\n",
      "0.396 2.2396984984874724\n",
      "0.392 2.2331762425899506\n",
      "0.397 2.2263344330787658\n",
      "0.404 2.2191371284723282\n",
      "0.412 2.2114676594734193\n"
     ]
    }
   ],
   "source": [
    "LeNet_AdaDelta_accuracies = []\n",
    "LeNet_AdaDelta_losses = []\n",
    "\n",
    "LeNet_AdaDelta_model = LeNet(optim.Adadelta, learning_rate=1e-6)\n",
    "for _ in range(10):\n",
    "    LeNet_AdaDelta_model.fit(MNIST_train_dataset, epochs=1)\n",
    "    LeNet_AdaDelta_accuracies.append(LeNet_AdaDelta_model.predict(MNIST_test_dataset))\n",
    "    LeNet_AdaDelta_losses.append(LeNet_AdaDelta_model.evaluate(MNIST_test_dataset))\n",
    "    print(LeNet_AdaDelta_accuracies[-1], LeNet_AdaDelta_losses[-1])"
   ]
  },
  {
   "cell_type": "code",
   "execution_count": 70,
   "metadata": {},
   "outputs": [
    {
     "name": "stdout",
     "output_type": "stream",
     "text": [
      "0.2 2.736087410183215\n",
      "0.126 2.5347468856573103\n",
      "0.11 2.6953072971105576\n",
      "0.126 2.62238682281971\n",
      "0.094 2.635318238735199\n",
      "0.087 2.5632050887346267\n",
      "0.11 2.7262517547607423\n",
      "0.085 2.857922829866409\n",
      "0.089 2.703109181523323\n",
      "0.085 2.9964538980722426\n"
     ]
    }
   ],
   "source": [
    "LeNet_NAG_accuracies = []\n",
    "LeNet_NAG_losses = []\n",
    "\n",
    "LeNet_NAG_model = LeNet(lambda params, lr: optim.SGD(params, lr=lr, momentum=.9, nesterov=True), learning_rate=1e-6)\n",
    "for _ in range(10):\n",
    "    LeNet_NAG_model.fit(MNIST_train_dataset, epochs=1)\n",
    "    LeNet_NAG_accuracies.append(LeNet_NAG_model.predict(MNIST_test_dataset))\n",
    "    LeNet_NAG_losses.append(LeNet_NAG_model.evaluate(MNIST_test_dataset))\n",
    "    print(LeNet_NAG_accuracies[-1], LeNet_NAG_losses[-1])"
   ]
  },
  {
   "cell_type": "code",
   "execution_count": 71,
   "metadata": {},
   "outputs": [
    {
     "name": "stdout",
     "output_type": "stream",
     "text": [
      "0.546 1.628600043952465\n",
      "0.764 0.7384602129139239\n",
      "0.819 0.6836352683667113\n",
      "0.84 0.7429248831801416\n",
      "0.858 0.5799305071917685\n",
      "0.882 0.3837404256450954\n",
      "0.9 0.29377000624600696\n",
      "0.914 0.2641157044524741\n",
      "0.932 0.20987969920035102\n",
      "0.938 0.17220884699044162\n"
     ]
    }
   ],
   "source": [
    "LeNet_Adam_accuracies = []\n",
    "LeNet_Adam_losses = []\n",
    "\n",
    "LeNet_Adam_model = LeNet(optim.Adam, learning_rate=1e-6)\n",
    "for _ in range(10):\n",
    "    LeNet_Adam_model.fit(MNIST_train_dataset, epochs=1)\n",
    "    LeNet_Adam_accuracies.append(LeNet_Adam_model.predict(MNIST_test_dataset))\n",
    "    LeNet_Adam_losses.append(LeNet_Adam_model.evaluate(MNIST_test_dataset))\n",
    "    print(LeNet_Adam_accuracies[-1], LeNet_Adam_losses[-1])"
   ]
  },
  {
   "cell_type": "code",
   "execution_count": 72,
   "metadata": {},
   "outputs": [],
   "source": [
    "epoch_list = list(range(10))"
   ]
  },
  {
   "cell_type": "code",
   "execution_count": 79,
   "metadata": {},
   "outputs": [
    {
     "data": {
      "image/png": "[encoded data removed]",
      "text/plain": [
       "<Figure size 640x480 with 1 Axes>"
      ]
     },
     "metadata": {},
     "output_type": "display_data"
    }
   ],
   "source": [
    "plt.plot(epoch_list, LeNet_SGD_accuracies, label=\"SGD\")\n",
    "plt.plot(epoch_list, LeNet_AdaDelta_accuracies, label=\"AdaDelta\")\n",
    "plt.plot(epoch_list, LeNet_NAG_accuracies, label=\"NAG\")\n",
    "plt.plot(epoch_list, LeNet_Adam_accuracies, label=\"Adam\")\n",
    "\n",
    "plt.title(\"Графики зависимости точности моделей от использованного метода оптимизации для LeNet\")\n",
    "plt.xlabel(\"Номер эпохи\")\n",
    "plt.ylabel(\"Точность модели\")\n",
    "plt.grid(True)\n",
    "plt.legend()\n",
    "plt.show()"
   ]
  },
  {
   "cell_type": "code",
   "execution_count": null,
   "metadata": {},
   "outputs": [],
   "source": [
    "plt.plot(epoch_list, LeNet_SGD_losses, label=\"SGD\")\n",
    "plt.plot(epoch_list, LeNet_AdaDelta_losses, label=\"AdaDelta\")\n",
    "plt.plot(epoch_list, LeNet_NAG_losses, label=\"NAG\")\n",
    "plt.plot(epoch_list, LeNet_Adam_losses, label=\"Adam\")\n",
    "\n",
    "plt.title(\"Графики зависимости функции потерь моделей от использованного метода оптимизации для LeNet\")\n",
    "plt.xlabel(\"Номер эпохи\")\n",
    "plt.ylabel(\"Значение функции потерь\")\n",
    "plt.grid(True)\n",
    "plt.legend()\n",
    "plt.show()"
   ]
  },
  {
   "cell_type": "code",
   "execution_count": 97,
   "metadata": {},
   "outputs": [],
   "source": [
    "class VGG16(CNN_default):\n",
    "    def __init__(self, optimizer, learning_rate):\n",
    "        super(VGG16, self).__init__(optimizer, learning_rate)\n",
    "        \n",
    "        self.conv1_1 = nn.Conv2d(3, 128, kernel_size=3, padding=1)\n",
    "        self.conv1_2 = nn.Conv2d(128, 128, kernel_size=3, padding=1)\n",
    "        self.pool1 = nn.MaxPool2d(kernel_size=2, stride=2)\n",
    "        \n",
    "        self.conv2_1 = nn.Conv2d(128, 256, kernel_size=3, padding=1)\n",
    "        self.conv2_2 = nn.Conv2d(256, 256, kernel_size=3, padding=1)\n",
    "        self.pool2 = nn.MaxPool2d(kernel_size=3, stride=2)\n",
    "        \n",
    "        self.conv3_1 = nn.Conv2d(256, 512, kernel_size=3, padding=1)\n",
    "        self.conv3_2 = nn.Conv2d(512, 512, kernel_size=3, padding=1)\n",
    "        self.pool3 = nn.MaxPool2d(kernel_size=2, stride=2)\n",
    "        \n",
    "        self.fc1 = nn.Linear(512 * 3 * 3, 1024)\n",
    "        self.dropout1 = nn.Dropout(0.5)\n",
    "        self.fc2 = nn.Linear(1024, 1024)\n",
    "        self.dropout2 = nn.Dropout(0.5)\n",
    "        \n",
    "        self.fc3 = nn.Linear(1024, 10)\n",
    "\n",
    "    def forward(self, x):\n",
    "        x = F.relu(self.conv1_1(x))\n",
    "        x = F.relu(self.conv1_2(x))\n",
    "        x = self.pool1(x)\n",
    "        \n",
    "        x = F.relu(self.conv2_1(x))\n",
    "        x = F.relu(self.conv2_2(x))\n",
    "        x = self.pool2(x)\n",
    "        \n",
    "        x = F.relu(self.conv3_1(x))\n",
    "        x = F.relu(self.conv3_2(x))\n",
    "        x = self.pool3(x)\n",
    "        \n",
    "        x = x.view(x.size(0), -1)\n",
    "        \n",
    "        x = F.relu(self.fc1(x))\n",
    "        x = self.dropout1(x)\n",
    "        x = F.relu(self.fc2(x))\n",
    "        x = self.dropout2(x)\n",
    "        \n",
    "        x = self.fc3(x)\n",
    "        \n",
    "        return x"
   ]
  },
  {
   "cell_type": "code",
   "execution_count": 99,
   "metadata": {},
   "outputs": [
    {
     "name": "stdout",
     "output_type": "stream",
     "text": [
      "Files already downloaded and verified\n",
      "Files already downloaded and verified\n",
      "Размер обучающего набора: 1000\n",
      "Размер тестового набора: 100\n"
     ]
    }
   ],
   "source": [
    "\n",
    "transform_train = transforms.Compose([\n",
    "    transforms.RandomHorizontalFlip(),\n",
    "    transforms.RandomCrop(32, padding=4),\n",
    "    transforms.ToTensor(),\n",
    "    transforms.Normalize((0.4914, 0.4822, 0.4465), (0.2023, 0.1994, 0.2010))\n",
    "])\n",
    "\n",
    "transform_test = transforms.Compose([\n",
    "    transforms.ToTensor(),\n",
    "    transforms.Normalize((0.4914, 0.4822, 0.4465), (0.2023, 0.1994, 0.2010))\n",
    "])\n",
    "\n",
    "CIFAR10_train_dataset = datasets.CIFAR10(root='./data', train=True, download=True, transform=transform_train)\n",
    "CIFAR10_test_dataset = datasets.CIFAR10(root='./data', train=True, download=True, transform=transform_test)\n",
    "\n",
    "CIFAR10_train_dataset = Subset(CIFAR10_train_dataset, indices=list(range(1000)))\n",
    "CIFAR10_test_dataset = Subset(CIFAR10_test_dataset, indices=list(range(100)))\n",
    "\n",
    "CIFAR10_train_loader = DataLoader(CIFAR10_train_dataset, shuffle=True, num_workers=2)\n",
    "CIFAR10_test_loader = DataLoader(CIFAR10_test_dataset, shuffle=True, num_workers=2)\n",
    "\n",
    "print(f\"Размер обучающего набора: {len(CIFAR10_train_dataset)}\")\n",
    "print(f\"Размер тестового набора: {len(CIFAR10_test_dataset)}\")"
   ]
  },
  {
   "cell_type": "code",
   "execution_count": 100,
   "metadata": {},
   "outputs": [
    {
     "name": "stdout",
     "output_type": "stream",
     "text": [
      "0.16 2.3004825782775877\n",
      "0.16 2.299757821559906\n",
      "0.16 2.2984605193138123\n",
      "0.16 2.2982958364486694\n",
      "0.16 2.297400939464569\n",
      "0.16 2.2976022696495058\n",
      "0.16 2.296946017742157\n",
      "0.16 2.2959431314468386\n",
      "0.16 2.293362867832184\n",
      "0.16 2.2883520483970643\n"
     ]
    }
   ],
   "source": [
    "VGG16_SGD_accuracies = []\n",
    "VGG16_SGD_losses = []\n",
    "\n",
    "VGG16_SGD_model = VGG16(optim.SGD, learning_rate=1e-6)\n",
    "for _ in range(10):\n",
    "    VGG16_SGD_model.fit(CIFAR10_train_loader, epochs=1)\n",
    "    VGG16_SGD_accuracies.append(VGG16_SGD_model.predict(CIFAR10_test_loader))\n",
    "    VGG16_SGD_losses.append(VGG16_SGD_model.evaluate(CIFAR10_test_loader))\n",
    "    print(VGG16_SGD_accuracies[-1], VGG16_SGD_losses[-1])"
   ]
  },
  {
   "cell_type": "code",
   "execution_count": 101,
   "metadata": {},
   "outputs": [
    {
     "name": "stdout",
     "output_type": "stream",
     "text": [
      "0.07 2.3000015592575074\n",
      "0.07 2.2998848581314086\n",
      "0.07 2.29977707862854\n",
      "0.07 2.299650418758392\n"
     ]
    }
   ],
   "source": [
    "VGG16_AdaDelta_accuracies = []\n",
    "VGG16_AdaDelta_losses = []\n",
    "\n",
    "VGG16_AdaDelta_model = VGG16(optim.Adadelta, learning_rate=1e-6)\n",
    "for _ in range(10):\n",
    "    VGG16_AdaDelta_model.fit(CIFAR10_train_loader, epochs=1)\n",
    "    VGG16_AdaDelta_accuracies.append(VGG16_AdaDelta_model.predict(CIFAR10_test_loader))\n",
    "    VGG16_AdaDelta_losses.append(VGG16_AdaDelta_model.evaluate(CIFAR10_test_loader))\n",
    "    print(VGG16_AdaDelta_accuracies[-1], VGG16_AdaDelta_losses[-1])"
   ]
  },
  {
   "cell_type": "code",
   "execution_count": null,
   "metadata": {},
   "outputs": [],
   "source": [
    "VGG16_NAG_accuracies = []\n",
    "VGG16_NAG_losses = []\n",
    "\n",
    "VGG16_NAG_model = VGG16(lambda params, lr: optim.SGD(params, lr=lr, momentum=.9, nesterov=True), learning_rate=1e-6)\n",
    "for _ in range(10):\n",
    "    VGG16_NAG_model.fit(CIFAR10_train_loader, epochs=1)\n",
    "    VGG16_NAG_accuracies.append(VGG16_NAG_model.predict(CIFAR10_test_loader))\n",
    "    VGG16_NAG_losses.append(VGG16_NAG_model.evaluate(CIFAR10_test_loader))\n",
    "    print(VGG16_NAG_accuracies[-1], VGG16_NAG_losses[-1])"
   ]
  },
  {
   "cell_type": "code",
   "execution_count": null,
   "metadata": {},
   "outputs": [],
   "source": [
    "VGG16_Adam_accuracies = []\n",
    "VGG16_Adam_losses = []\n",
    "\n",
    "VGG16_Adam_model = VGG16(optim.Adam, learning_rate=1e-6)\n",
    "for _ in range(10):\n",
    "    VGG16_Adam_model.fit(CIFAR10_train_loader, epochs=1)\n",
    "    VGG16_Adam_accuracies.append(VGG16_Adam_model.predict(CIFAR10_test_loader))\n",
    "    VGG16_Adam_losses.append(VGG16_Adam_model.evaluate(CIFAR10_test_loader))\n",
    "    print(VGG16_Adam_accuracies[-1], VGG16_Adam_losses[-1])"
   ]
  },
  {
   "cell_type": "code",
   "execution_count": null,
   "metadata": {},
   "outputs": [],
   "source": [
    "plt.plot(epoch_list, VGG16_SGD_accuracies, label=\"SGD\")\n",
    "plt.plot(epoch_list, VGG16_AdaDelta_accuracies, label=\"AdaDelta\")\n",
    "plt.plot(epoch_list, VGG16_NAG_accuracies, label=\"NAG\")\n",
    "plt.plot(epoch_list, VGG16_Adam_accuracies, label=\"Adam\")\n",
    "\n",
    "plt.title(\"Графики зависимости точности моделей от использованного метода оптимизации для VGG16\")\n",
    "plt.xlabel(\"Номер эпохи\")\n",
    "plt.ylabel(\"Точность модели\")\n",
    "plt.grid(True)\n",
    "plt.legend()\n",
    "plt.show()"
   ]
  },
  {
   "cell_type": "code",
   "execution_count": null,
   "metadata": {},
   "outputs": [],
   "source": [
    "class BasicBlock(CNN_default):\n",
    "    expansion = 1\n",
    "\n",
    "    def __init__(self, optimizer, learning_rate):\n",
    "        super(BasicBlock, self).__init__(optimizer, learning_rate)\n",
    "    \n",
    "        self.conv1 = nn.Conv2d(in_channels, out_channels, kernel_size=3, stride=stride, padding=1, bias=False)\n",
    "        self.bn1 = nn.BatchNorm2d(out_channels)\n",
    "        \n",
    "        self.conv2 = nn.Conv2d(out_channels, out_channels, kernel_size=3, stride=1, padding=1, bias=False)\n",
    "        self.bn2 = nn.BatchNorm2d(out_channels)\n",
    "        \n",
    "        self.shortcut = nn.Sequential()\n",
    "        if stride != 1 or in_channels != out_channels:\n",
    "            self.shortcut = nn.Sequential(\n",
    "                nn.Conv2d(in_channels, out_channels, kernel_size=1, stride=stride, bias=False),\n",
    "                nn.BatchNorm2d(out_channels)\n",
    "            )\n",
    "\n",
    "    def forward(self, x):\n",
    "        out = F.relu(self.bn1(self.conv1(x)))\n",
    "        out = self.bn2(self.conv2(out))\n",
    "        out += self.shortcut(x)\n",
    "        out = F.relu(out)\n",
    "        return out\n",
    "\n",
    "\n",
    "class ResNet34(CNN_default):\n",
    "    def __init__(self, optimizer, learning_rate, num_classes=1000):\n",
    "        super(ResNet34, self).__init__(optimizer, learning_rate)\n",
    "        \n",
    "        self.conv1 = nn.Conv2d(3, 64, kernel_size=7, stride=2, padding=3, bias=False)\n",
    "        self.bn1 = nn.BatchNorm2d(64)\n",
    "        self.pool = nn.MaxPool2d(kernel_size=3, stride=2, padding=1)\n",
    "        \n",
    "        self.layer1 = self._make_layer(64, 64, 3, stride=1)\n",
    "        self.layer2 = self._make_layer(64, 128, 4, stride=2)\n",
    "        self.layer3 = self._make_layer(128, 256, 6, stride=2)\n",
    "        self.layer4 = self._make_layer(256, 512, 3, stride=2)\n",
    "        \n",
    "        self.avg_pool = nn.AdaptiveAvgPool2d((1, 1))\n",
    "        self.fc = nn.Linear(512, num_classes)\n",
    "\n",
    "    def _make_layer(self, in_channels, out_channels, num_blocks, stride):\n",
    "        layers = []\n",
    "        layers.append(BasicBlock(in_channels, out_channels, stride))\n",
    "        for _ in range(1, num_blocks):\n",
    "            layers.append(BasicBlock(out_channels, out_channels))\n",
    "        return nn.Sequential(*layers)\n",
    "\n",
    "    def forward(self, x):\n",
    "        x = F.relu(self.bn1(self.conv1(x)))\n",
    "        x = self.pool(x)\n",
    "        \n",
    "        x = self.layer1(x)\n",
    "        x = self.layer2(x)\n",
    "        x = self.layer3(x)\n",
    "        x = self.layer4(x)\n",
    "        \n",
    "        x = self.avg_pool(x)\n",
    "        x = x.view(x.size(0), -1)\n",
    "        x = self.fc(x)\n",
    "        \n",
    "        return x"
   ]
  }
 ],
 "metadata": {
  "kernelspec": {
   "display_name": "BMSTU_AI",
   "language": "python",
   "name": "python3"
  },
  "language_info": {
   "codemirror_mode": {
    "name": "ipython",
    "version": 3
   },
   "file_extension": ".py",
   "mimetype": "text/x-python",
   "name": "python",
   "nbconvert_exporter": "python",
   "pygments_lexer": "ipython3",
   "version": "3.11.1"
  }
 },
 "nbformat": 4,
 "nbformat_minor": 2
}
