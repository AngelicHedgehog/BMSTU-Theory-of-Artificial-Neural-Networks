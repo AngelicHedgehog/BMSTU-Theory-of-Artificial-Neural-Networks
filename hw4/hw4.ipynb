{
 "cells": [
  {
   "cell_type": "code",
   "execution_count": 1,
   "metadata": {},
   "outputs": [],
   "source": [
    "import copy\n",
    "import numpy as np\n",
    "import matplotlib.pyplot as plt\n",
    "from dataclasses import dataclass\n",
    "from typing import Callable, List"
   ]
  },
  {
   "cell_type": "code",
   "execution_count": 2,
   "metadata": {},
   "outputs": [],
   "source": [
    "@dataclass\n",
    "class Function:\n",
    "    func: Callable[[float], float]\n",
    "    derivative: Callable[[float], float]"
   ]
  },
  {
   "cell_type": "code",
   "execution_count": 92,
   "metadata": {},
   "outputs": [],
   "source": [
    "class Optimizer:\n",
    "    def __init__(self, model):\n",
    "        self.model = model\n",
    "\n",
    "    def fit(self, X, y):\n",
    "        return None"
   ]
  },
  {
   "cell_type": "code",
   "execution_count": 59,
   "metadata": {},
   "outputs": [],
   "source": [
    "class GD(Optimizer):\n",
    "    def fit(self, X, y):\n",
    "        for i in range(X.shape[0]):\n",
    "            # Прямой проход (вычисление предсказания)\n",
    "            outputs = self.model.predict(X[i], get_outputs=True)\n",
    "\n",
    "            # Вычисление градиента функции потерь\n",
    "            loss_gradient = self.model.loss_function.derivative(outputs[-1], y[i])\n",
    "\n",
    "            # Обратное распространение ошибки для выходного слоя\n",
    "            # Вычисление градиента\n",
    "            gradient = self.model.activation_function.derivative(outputs[-1])\n",
    "            delta = self.model.learning_rate * gradient * loss_gradient\n",
    "            self.model.weights[-1] -= np.outer(delta, outputs[-2])\n",
    "            self.model.biases[-1] -= delta\n",
    "\n",
    "            # Обратное распространение для скрытых слоев с функцией активации ReLU\n",
    "            for j in range(len(self.model.hidden_layers_sizes) - 1, -1, -1):\n",
    "                gradient = self.model.activation_function.derivative(outputs[j + 1])\n",
    "                delta = self.model.learning_rate * gradient * np.dot(self.model.weights[j + 1].T, delta)\n",
    "                self.model.weights[j] -= np.outer(delta, outputs[j])\n",
    "                self.model.biases[j] -= delta"
   ]
  },
  {
   "cell_type": "code",
   "execution_count": 93,
   "metadata": {},
   "outputs": [],
   "source": [
    "\n",
    "class SGD(Optimizer):\n",
    "    def __init__(self, model):\n",
    "        super().__init__(model)\n",
    "        \n",
    "        self.batch_size = 50\n",
    "\n",
    "    def mean_from_batch(self, batch_outputs, function):\n",
    "        return np.mean([\n",
    "                    function(batch_outputs[j - i], j)\n",
    "                    for j in range(i, i + self.batch_size)\n",
    "                ], axis=0)\n",
    "\n",
    "    def fit(self, X, y):\n",
    "        indexes = np.arange(X.shape[0])\n",
    "        np.random.shuffle(indexes)\n",
    "        X = X[indexes]\n",
    "        y = y[indexes]\n",
    "\n",
    "        for i in range(0, X.shape[0], self.batch_size):\n",
    "            batch_outputs = np.array([\n",
    "                self.model.predict(X[j], get_outputs=True)\n",
    "                for j in range(i, i + self.batch_size)\n",
    "            ], dtype=object)\n",
    "            \n",
    "            loss_gradient = self.mean_from_batch(batch_outputs,\n",
    "                lambda outputs, j: self.model.loss_function.derivative(outputs[-1], y[j])\n",
    "            )\n",
    "\n",
    "            gradient = self.mean_from_batch(batch_outputs,\n",
    "                lambda outputs, _: self.model.activation_function.derivative(outputs[-1]))\n",
    "            delta = self.model.learning_rate * gradient * loss_gradient\n",
    "\n",
    "            self.model.weights[-1] -= self.mean_from_batch(batch_outputs,\n",
    "                lambda outputs, _: np.outer(delta, outputs[-2]))\n",
    "            self.model.biases[-1] -= delta\n",
    "\n",
    "            for j in range(len(self.model.hidden_layers_sizes) - 1, -1, -1):\n",
    "                gradient = self.mean_from_batch(batch_outputs,\n",
    "                    lambda outputs, _: self.model.activation_function.derivative(outputs[j + 1]))\n",
    "                delta = self.model.learning_rate * gradient * np.dot(self.model.weights[j + 1].T, delta)\n",
    "            \n",
    "                self.model.weights[j] -= self.mean_from_batch(batch_outputs,\n",
    "                    lambda outputs, _: np.outer(delta, outputs[j]))\n",
    "                self.model.biases[j] -= delta"
   ]
  },
  {
   "cell_type": "code",
   "execution_count": null,
   "metadata": {},
   "outputs": [],
   "source": [
    "class NAG(Optimizer):\n",
    "    def __init__(self, model):\n",
    "        super().__init__(model)\n",
    "        \n",
    "        self.momentums_weights = [np.zeros(weights.shape) for weights in self.model.weights]\n",
    "        self.momentums_biases = [np.zeros(biases.shape) for biases in self.model.biases]\n",
    "\n",
    "    def fit(self, X, y):\n",
    "        for i in range(X.shape[0]):\n",
    "            for j in range(len(self.model.weights)):\n",
    "                self.model.weights[j] -= self.momentums_weights[j]\n",
    "                self.model.biases[j] -= self.momentums_biases[j]\n",
    "            outputs = self.model.predict(X[i], get_outputs=True)\n",
    "\n",
    "            loss_gradient = self.model.loss_function.derivative(outputs[-1], y[i])\n",
    "\n",
    "            gradient = self.model.activation_function.derivative(outputs[-1])\n",
    "            delta = self.model.learning_rate * gradient * loss_gradient\n",
    "\n",
    "            delta_weights = np.outer(delta, outputs[-2])\n",
    "            self.momentums_weights[-1] += delta_weights\n",
    "            self.model.weights[-1] -= delta_weights\n",
    "            \n",
    "            self.momentums_biases[-1] += delta\n",
    "            self.model.biases[-1] -= delta\n",
    "\n",
    "            for j in range(len(self.model.hidden_layers_sizes) - 1, -1, -1):\n",
    "                gradient = self.model.activation_function.derivative(outputs[j + 1])\n",
    "                delta = self.model.learning_rate * gradient * np.dot(self.model.weights[j + 1].T, delta)\n",
    "\n",
    "                delta_weights = np.outer(delta, outputs[j])\n",
    "                self.momentums_weights[j] += delta_weights\n",
    "                self.model.weights[j] -= self.momentums_weights[j]\n",
    "\n",
    "                self.momentums_biases[j] += delta\n",
    "                self.model.biases[j] -= delta"
   ]
  },
  {
   "cell_type": "code",
   "execution_count": 96,
   "metadata": {},
   "outputs": [],
   "source": [
    "import copy\n",
    "import numpy as np\n",
    "import matplotlib.pyplot as plt\n",
    "from dataclasses import dataclass\n",
    "from typing import Callable, List\n",
    "\n",
    "@dataclass\n",
    "class Function:\n",
    "    func: Callable[[float], float]\n",
    "    derivative: Callable[[float], float]\n",
    "\n",
    "\n",
    "\n",
    "class Perceptron:\n",
    "    def __init__(\n",
    "        self,\n",
    "        input_layer_size: int,\n",
    "        hidden_layers_sizes: tuple,\n",
    "        output_layer_size: int,\n",
    "        init_weights_function: Callable[[tuple], tuple],\n",
    "        loss_function: Function,\n",
    "        optimizer: Optimizer,\n",
    "        epochs: int,\n",
    "        learning_rate: float = 0.01,\n",
    "    ):\n",
    "        self.input_layer_size = input_layer_size\n",
    "        self.hidden_layers_sizes = hidden_layers_sizes\n",
    "        self.output_layer_size = output_layer_size\n",
    "        self.loss_function = loss_function\n",
    "        self.epochs = epochs\n",
    "        self.learning_rate = learning_rate\n",
    "    \n",
    "        self.activation_function = ReLU\n",
    "\n",
    "        # Инициализация весов и смещений (biases)\n",
    "        self.weights = []\n",
    "        self.biases = []\n",
    "\n",
    "        # Веса между входным слоем и первым скрытым слоем\n",
    "        self.weights.append(init_weights_function((hidden_layers_sizes[0], input_layer_size)))\n",
    "        self.biases.append(np.random.randn(hidden_layers_sizes[0]))\n",
    "\n",
    "        # Веса между скрытыми слоями\n",
    "        for i in range(1, len(hidden_layers_sizes)):\n",
    "            self.weights.append(init_weights_function((hidden_layers_sizes[i], hidden_layers_sizes[i - 1])))\n",
    "            self.biases.append(np.random.randn(hidden_layers_sizes[i]))\n",
    "\n",
    "        # Веса между последним скрытым слоем и выходным слоем\n",
    "        self.weights.append(init_weights_function((output_layer_size, hidden_layers_sizes[-1])))\n",
    "        self.biases.append(np.random.randn(output_layer_size))\n",
    "\n",
    "        self.optimizer = optimizer(self)\n",
    "\n",
    "    def predict(self, X: np.ndarray, get_outputs: bool=False, get_probabilities: bool=False) -> int | list:\n",
    "        outputs = [X]\n",
    "\n",
    "        # Прямой проход через скрытые слои с функцией активации ReLU\n",
    "        for i in range(len(self.hidden_layers_sizes)):\n",
    "            z = np.dot(self.weights[i], outputs[-1]) + self.biases[i]\n",
    "            outputs.append(np.maximum(0, z))\n",
    "\n",
    "        # Прямой проход через выходной слой с функцией активации Softmax\n",
    "        z = np.dot(self.weights[-1], outputs[-1]) + self.biases[-1]\n",
    "        outputs.append(np.exp(z) / np.sum(np.exp(z)))\n",
    "\n",
    "        if get_outputs:\n",
    "            return outputs\n",
    "        if get_probabilities:\n",
    "            return outputs[-1]\n",
    "        return int(np.argmax(outputs[-1]))\n",
    "\n",
    "    def fit(self, X: np.ndarray, y: np.ndarray) -> None:\n",
    "        y_one_hot = np.zeros((len(y), self.output_layer_size))\n",
    "        for i, label in enumerate(y):\n",
    "            y_one_hot[i, label] = 1\n",
    "\n",
    "        for epoch in range(self.epochs):\n",
    "            self.optimizer.fit(X, y_one_hot)\n",
    "\n",
    "    def evaluate(self, X: np.ndarray, y: np.ndarray) -> float:\n",
    "        correct_predictions = 0\n",
    "\n",
    "        for i in range(len(X)):\n",
    "            prediction = self.predict(X[i])\n",
    "            if prediction == y[i]:\n",
    "                correct_predictions += 1\n",
    "\n",
    "        # Возвращаем долю правильных предсказаний\n",
    "        return correct_predictions / len(X)\n",
    "\n",
    "    def validate(self, X_val: np.ndarray, y_val: np.ndarray) -> float:\n",
    "        total_loss = 0.0\n",
    "        n = len(X_val)\n",
    "\n",
    "        # Преобразуем метки в one-hot encoding, если это необходимо\n",
    "        y_one_hot = np.zeros((len(y_val), self.output_layer_size))\n",
    "        for i, label in enumerate(y_val):\n",
    "            y_one_hot[i, label] = 1\n",
    "\n",
    "        for i in range(n):\n",
    "            # Прямой проход для получения предсказания\n",
    "            prediction = self.predict(X_val[i], get_probabilities=True)\n",
    "\n",
    "            # Вычисляем функцию потерь для текущего примера\n",
    "            loss = self.loss_function.func(prediction, y_one_hot[i])\n",
    "            total_loss += loss\n",
    "\n",
    "        # Возвращаем среднее значение функции потерь\n",
    "        return total_loss / n\n",
    "\n",
    "model_default = Perceptron(\n",
    "    input_layer_size=28**2,\n",
    "    hidden_layers_sizes=(256,)*4,\n",
    "    output_layer_size=10,\n",
    "    init_weights_function=he_init,\n",
    "    loss_function=MSE,\n",
    "    optimizer=GD,\n",
    "    epochs=1,\n",
    "    learning_rate=1e-6,\n",
    ")\n",
    "\n",
    "# accuracies = []\n",
    "# losses = []\n",
    "# for i in range(1, 5):\n",
    "#     model_default.fit(x_train[:1000], y_train[:1000])\n",
    "#     accuracies = np.append(accuracies, model_default.evaluate(x_test, y_test))\n",
    "#     losses = np.append(losses, model_default.validate(x_test, y_test))\n",
    "#     print(accuracies[-1], losses[-1])"
   ]
  },
  {
   "cell_type": "code",
   "execution_count": 97,
   "metadata": {},
   "outputs": [
    {
     "name": "stdout",
     "output_type": "stream",
     "text": [
      "0.0935 0.11100575551741847\n",
      "0.0937 0.10995362051662277\n",
      "0.0941 0.10895608996383165\n",
      "0.0943 0.10800996213596847\n"
     ]
    }
   ],
   "source": [
    "model_default1 = copy.deepcopy(model_default)\n",
    "accuracies = []\n",
    "losses = []\n",
    "for i in range(1, 5):\n",
    "    model_default1.fit(x_train[:1000], y_train[:1000])\n",
    "    accuracies = np.append(accuracies, model_default1.evaluate(x_test, y_test))\n",
    "    losses = np.append(losses, model_default1.validate(x_test, y_test))\n",
    "    print(accuracies[-1], losses[-1])"
   ]
  },
  {
   "cell_type": "code",
   "execution_count": 98,
   "metadata": {},
   "outputs": [
    {
     "name": "stdout",
     "output_type": "stream",
     "text": [
      "0.1364 0.09451968376647375\n",
      "0.0899 0.11439922382083066\n",
      "0.1072 0.10393083676171135\n",
      "0.2037 0.09639737358977446\n"
     ]
    }
   ],
   "source": [
    "model_default2 = copy.deepcopy(model_default)\n",
    "model_default2.optimizer = NAG(model_default2)\n",
    "accuracies = []\n",
    "losses = []\n",
    "for i in range(1, 5):\n",
    "    model_default2.fit(x_train[:1000], y_train[:1000])\n",
    "    accuracies = np.append(accuracies, model_default2.evaluate(x_test, y_test))\n",
    "    losses = np.append(losses, model_default2.validate(x_test, y_test))\n",
    "    print(accuracies[-1], losses[-1])"
   ]
  },
  {
   "cell_type": "code",
   "execution_count": 2,
   "metadata": {},
   "outputs": [
    {
     "data": {
      "text/plain": [
       "((60000, 784), (60000,), (10000, 784), (10000,))"
      ]
     },
     "execution_count": 2,
     "metadata": {},
     "output_type": "execute_result"
    }
   ],
   "source": [
    "\n",
    "def he_init(size):\n",
    "    return np.random.randn(*size) * np.sqrt(2.0 / size[1])\n",
    "\n",
    "k = 3\n",
    "ReLU = Function(\n",
    "    func=lambda x: np.where(x > 0, k * x, 0),\n",
    "    derivative=lambda x: np.where(x > 0, k, 0),\n",
    ")\n",
    "\n",
    "MSE = Function(\n",
    "    func=lambda y_pred, y_true: np.mean((y_true - y_pred) ** 2),\n",
    "    derivative=lambda y_pred, y_true: 2 * (y_pred - y_true) / y_true.size,\n",
    ")\n",
    "\n",
    "from tensorflow.keras.datasets import mnist\n",
    "\n",
    "(x_train, y_train), (x_test, y_test) = mnist.load_data()\n",
    "x_train = x_train.reshape(-1, 28**2) / 255\n",
    "x_test = x_test.reshape(-1, 28**2) / 255\n",
    "x_train.shape, y_train.shape, x_test.shape, y_test.shape"
   ]
  },
  {
   "cell_type": "code",
   "execution_count": 10,
   "metadata": {},
   "outputs": [],
   "source": [
    "epochs_count = 10\n",
    "epoch_list = list(range(0, epochs_count + 1))"
   ]
  },
  {
   "cell_type": "code",
   "execution_count": 11,
   "metadata": {},
   "outputs": [],
   "source": [
    "def get_accuracies(optimizer):\n",
    "    model = copy.deepcopy(model_default)\n",
    "    model.optimizer = optimizer(model.learning_rate)\n",
    "\n",
    "    accuracies = np.array([model.evaluate(x_test, y_test)])\n",
    "    losses = np.array([model.validate(x_test, y_test)])\n",
    "    print(accuracies[-1], losses[-1])\n",
    "\n",
    "    for i in range(1, epochs_count + 1):\n",
    "        model.fit(x_train, y_train)\n",
    "        accuracies = np.append(accuracies, model.evaluate(x_test, y_test))\n",
    "        losses = np.append(losses, model.validate(x_test, y_test))\n",
    "        print(accuracies[-1], losses[-1])\n",
    "    \n",
    "    print()\n",
    "    return accuracies, losses"
   ]
  },
  {
   "cell_type": "code",
   "execution_count": 12,
   "metadata": {},
   "outputs": [],
   "source": [
    "model_default = Perceptron(\n",
    "    input_layer_size=784,  # 28**2\n",
    "    hidden_layers_sizes=(256,)*4,\n",
    "    output_layer_size=10,\n",
    "    init_weights_function=he_init,\n",
    "    activation_functions=(ReLU, ReLU, ReLU, ReLU),\n",
    "    output_activation_function=Softmax,\n",
    "    optimizer=SGD,\n",
    "    loss_function=CrossEntropy,\n",
    "    epochs=1,\n",
    "    learning_rate=1e-6,\n",
    ")"
   ]
  },
  {
   "cell_type": "code",
   "execution_count": 13,
   "metadata": {},
   "outputs": [
    {
     "name": "stdout",
     "output_type": "stream",
     "text": [
      "0.1148 18.10095770152112\n",
      "0.446 11.01298055349991\n",
      "0.4644 10.701018664511928\n",
      "0.4721 10.57589146095466\n",
      "0.4746 10.539970648008824\n",
      "0.4761 10.496676783900417\n",
      "0.4776 10.463471936487638\n",
      "0.4799 10.441909091197466\n",
      "0.4795 10.423716083951694\n",
      "0.4817 10.392661433339828\n",
      "0.48 10.397761512900715\n",
      "\n"
     ]
    }
   ],
   "source": [
    "results_SGD = get_accuracies(SGD)\n",
    "# results_NAG = get_accuracies(NAG)\n",
    "# results_Adagrad = get_accuracies(Adagrad)\n",
    "# results_ADAM = get_accuracies(ADAM)"
   ]
  },
  {
   "cell_type": "code",
   "execution_count": 14,
   "metadata": {},
   "outputs": [
    {
     "data": {
      "image/png": "[encoded data removed]",
      "text/plain": [
       "<Figure size 640x480 with 1 Axes>"
      ]
     },
     "metadata": {},
     "output_type": "display_data"
    }
   ],
   "source": [
    "plt.plot(epoch_list, results_SGD[0], label=\"SGD\")\n",
    "# plt.plot(epoch_list, results_NAG[0], label=\"NAG\")\n",
    "# plt.plot(epoch_list, results_Adagrad[0], label=\"Adagrad\")\n",
    "# plt.plot(epoch_list, results_ADAM[0], label=\"ADAM\")\n",
    "\n",
    "plt.title(\"Зависимость точности от количества эпох для разных методов оптимизации\")\n",
    "plt.xlabel(\"Количество эпох\")\n",
    "plt.ylabel(\"Точность\")\n",
    "plt.grid(True)\n",
    "plt.legend()\n",
    "plt.show()"
   ]
  },
  {
   "cell_type": "code",
   "execution_count": 15,
   "metadata": {},
   "outputs": [
    {
     "data": {
      "image/png": "[encoded data removed]",
      "text/plain": [
       "<Figure size 640x480 with 1 Axes>"
      ]
     },
     "metadata": {},
     "output_type": "display_data"
    }
   ],
   "source": [
    "plt.plot(epoch_list, results_SGD[1], label=\"SGD\")\n",
    "# plt.plot(epoch_list, results_NAG[1], label=\"NAG\")\n",
    "# plt.plot(epoch_list, results_Adagrad[1], label=\"Adagrad\")\n",
    "# plt.plot(epoch_list, results_ADAM[1], label=\"ADAM\")\n",
    "\n",
    "plt.title(\"Зависимость значения функции потерь от количества эпох для разных методов оптимизации\")\n",
    "plt.xlabel(\"Количество эпох\")\n",
    "plt.ylabel(\"Значение функции потерь\")\n",
    "plt.grid(True)\n",
    "plt.legend()\n",
    "plt.show()"
   ]
  }
 ],
 "metadata": {
  "kernelspec": {
   "display_name": "Python 3",
   "language": "python",
   "name": "python3"
  },
  "language_info": {
   "codemirror_mode": {
    "name": "ipython",
    "version": 3
   },
   "file_extension": ".py",
   "mimetype": "text/x-python",
   "name": "python",
   "nbconvert_exporter": "python",
   "pygments_lexer": "ipython3",
   "version": "3.11.1"
  }
 },
 "nbformat": 4,
 "nbformat_minor": 2
}
